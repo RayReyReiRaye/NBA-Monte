# demo_notebook.ipynb (Jupyter Notebook content as a Python script for preview)

# Cell 1: Imports
from main import run_simulation_for_matchup

# Cell 2: Setup
matchup = "PHX @ DET"
print(f"Running simulation for matchup: {matchup}")

# Cell 3: Run
run_simulation_for_matchup(matchup)

# Note:
# In a Jupyter Notebook, each of the above would be a separate cell.
# The output will print the simulated projections and hit probabilities
# for all starters and key bench players in the matchup.
